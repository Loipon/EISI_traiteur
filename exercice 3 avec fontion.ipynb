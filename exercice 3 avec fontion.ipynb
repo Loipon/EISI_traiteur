{
 "cells": [
  {
   "cell_type": "code",
   "execution_count": 58,
   "metadata": {},
   "outputs": [
    {
     "name": "stdout",
     "output_type": "stream",
     "text": [
      "Tableau de bord\n",
      "---------------------------------------------------------\n",
      "Chambres        Moy Min Max\n",
      "chambrefroide01 3.4 2.5 6.4\n",
      "chambrefroide02 2.8 2.5 4.1\n",
      "chambrefroide03 2.7 2.5 3.6\n"
     ]
    }
   ],
   "source": [
    "import csv\n",
    "\n",
    "def afficher_tableau_de_bord():\n",
    "    print(\"Tableau de bord\")\n",
    "    print('-' * 57)\n",
    "    print(\"Chambres        Moy Min Max\")\n",
    "\n",
    "\n",
    "def lire_fichier_csv():\n",
    "    Traiteur_csv = \"traiteur.csv\"\n",
    "    chambres = {}\n",
    "    # Ouverture du fichier de données\n",
    "    with open(Traiteur_csv) as fichier_csv:\n",
    "        lecteur_csv = csv.reader(fichier_csv, delimiter=';')\n",
    "        next(lecteur_csv)\n",
    "        # parcours des données du fichier\n",
    "        for champ in lecteur_csv:\n",
    "            try:\n",
    "                chambre = champ[2]\n",
    "                temperature = float(champ[3].replace(',', '.')) \n",
    "                if chambre not in chambres:\n",
    "                    chambres[chambre] = []\n",
    "                chambres[chambre].append(temperature)\n",
    "            except (ValueError, IndexError):\n",
    "                print(f\"Champ skippé: {champ}\")\n",
    "    \n",
    "    return chambres\n",
    "\n",
    "\n",
    "def afficher_statistiques():\n",
    "    chambres = lire_fichier_csv()\n",
    "    #Calcul moyenne, minimum et maximum température de chaque chambres\n",
    "    for chambre, temperatures in chambres.items():\n",
    "        if temperatures:\n",
    "            moyenne = sum(temperatures) / len(temperatures)\n",
    "            mini = min(temperatures)\n",
    "            maxi = max(temperatures)\n",
    "            print(f\"{chambre} {round(moyenne, 1)} {mini} {maxi}\")\n",
    "        else:\n",
    "            print(f\"{chambre} Pas de valeur trouvée\")\n",
    "\n",
    "\n",
    "if __name__ == \"__main__\":\n",
    "    afficher_tableau_de_bord()\n",
    "    afficher_statistiques()\n"
   ]
  }
 ],
 "metadata": {
  "kernelspec": {
   "display_name": "Python 3",
   "language": "python",
   "name": "python3"
  },
  "language_info": {
   "codemirror_mode": {
    "name": "ipython",
    "version": 3
   },
   "file_extension": ".py",
   "mimetype": "text/x-python",
   "name": "python",
   "nbconvert_exporter": "python",
   "pygments_lexer": "ipython3",
   "version": "3.13.1"
  }
 },
 "nbformat": 4,
 "nbformat_minor": 2
}
